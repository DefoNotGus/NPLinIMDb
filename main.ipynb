{
 "cells": [
  {
   "cell_type": "markdown",
   "metadata": {},
   "source": [
    "## CM4107 Advanced Artificial Intelligence \n",
    "# NLP in IMDb\n",
    "### Comparative Evaluation of Two NLP Algorithms on Sentiment Classification of movie reviews\n",
    "Author: Gustavo Rangel (2108288)\n",
    "\n",
    "GitHub Repository: [NPL in IMDb](https://github.com/DefoNotGus/NPLinIMDb)"
   ]
  },
  {
   "cell_type": "markdown",
   "metadata": {},
   "source": [
    "### Section 1: Dataset Description and Preprocessing\n",
    "The IMDB Dataset of Movie Reviews consists of 50,000 reviews with binary (positive/negative) sentiment labels.\n",
    "The reviews are divided into 25,000 for training and 25,000 for testing. After splitting the data into train and test and subsequently splitting into texts (input) and labels (target) and lastly using basic preprocessing such as tokenization and vectorization. This dataset would be very suitable for implementing NLP algorithm models to evaluate if a text review is positive or negative. After implementing the algorithms, Naive  Bayes and LSTM (Long Short-Term Memory)\n",
    "\n",
    "I will work with the HuggingFace `datasets` library for simplicity."
   ]
  },
  {
   "cell_type": "code",
   "execution_count": 1,
   "metadata": {},
   "outputs": [
    {
     "name": "stderr",
     "output_type": "stream",
     "text": [
      "C:\\Users\\gusta\\AppData\\Roaming\\Python\\Python312\\site-packages\\tqdm\\auto.py:21: TqdmWarning: IProgress not found. Please update jupyter and ipywidgets. See https://ipywidgets.readthedocs.io/en/stable/user_install.html\n",
      "  from .autonotebook import tqdm as notebook_tqdm\n"
     ]
    },
    {
     "name": "stdout",
     "output_type": "stream",
     "text": [
      "TF-IDF Vectorization Completed!\n",
      "Training Feature Shape: (25000, 5000), Test Feature Shape: (25000, 5000)\n"
     ]
    }
   ],
   "source": [
    "from datasets import load_dataset\n",
    "from sklearn.model_selection import train_test_split\n",
    "from sklearn.feature_extraction.text import TfidfVectorizer\n",
    "import pandas as pd\n",
    "\n",
    "# Load Dataset\n",
    "dataset = load_dataset(\"imdb\")\n",
    "train_data = dataset[\"train\"]\n",
    "test_data = dataset[\"test\"]\n",
    "\n",
    "# Extract texts and labels\n",
    "train_texts, train_labels = train_data[\"text\"], train_data[\"label\"]\n",
    "test_texts, test_labels = test_data[\"text\"], test_data[\"label\"]\n",
    "\n",
    "# Preprocess text: vectorization\n",
    "# Using TF-IDF for Algorithm 1 (Naive Bayes) and Word Embeddings for Algorithm 2 (LSTM)\n",
    "tfidf_vectorizer = TfidfVectorizer(max_features=5000, stop_words=\"english\")\n",
    "X_train_tfidf = tfidf_vectorizer.fit_transform(train_texts)\n",
    "X_test_tfidf = tfidf_vectorizer.transform(test_texts)\n",
    "\n",
    "print(\"TF-IDF Vectorization Completed!\")\n",
    "print(f\"Training Feature Shape: {X_train_tfidf.shape}, Test Feature Shape: {X_test_tfidf.shape}\")"
   ]
  },
  {
   "cell_type": "markdown",
   "metadata": {},
   "source": [
    "### Section 2: Representation Learning\n",
    "Representation learning will use two forms:\n",
    "- TF-IDF Vectorization for traditional algorithms (Naive Bayes)\n",
    "- Token embeddings for neural methods (e.g., LSTM with GloVe embeddings)."
   ]
  },
  {
   "cell_type": "code",
   "execution_count": 2,
   "metadata": {},
   "outputs": [
    {
     "name": "stdout",
     "output_type": "stream",
     "text": [
      "Padded Sequence Shape: (25000, 200), (25000, 200)\n"
     ]
    }
   ],
   "source": [
    "from tensorflow.keras.preprocessing.text import Tokenizer\n",
    "from tensorflow.keras.preprocessing.sequence import pad_sequences\n",
    "\n",
    "# Tokenization for Neural Networks\n",
    "tokenizer = Tokenizer(num_words=10000, oov_token=\"<OOV>\")\n",
    "tokenizer.fit_on_texts(train_texts)\n",
    "X_train_seq = tokenizer.texts_to_sequences(train_texts)\n",
    "X_test_seq = tokenizer.texts_to_sequences(test_texts)\n",
    "\n",
    "# Padding sequences\n",
    "max_length = 200  # Maximum review length\n",
    "X_train_padded = pad_sequences(X_train_seq, maxlen=max_length, padding=\"post\", truncating=\"post\")\n",
    "X_test_padded = pad_sequences(X_test_seq, maxlen=max_length, padding=\"post\", truncating=\"post\")\n",
    "\n",
    "print(f\"Padded Sequence Shape: {X_train_padded.shape}, {X_test_padded.shape}\")"
   ]
  },
  {
   "cell_type": "markdown",
   "metadata": {},
   "source": [
    "### Section 3: Algorithms\n",
    "#### Algorithm 1: Naive Bayes Classification"
   ]
  },
  {
   "cell_type": "code",
   "execution_count": 3,
   "metadata": {},
   "outputs": [
    {
     "name": "stdout",
     "output_type": "stream",
     "text": [
      "Naive Bayes Performance:\n",
      "Accuracy: 0.83908, Precision: 0.8514802222406501, Recall: 0.82144, F1-Score: 0.8361903986318662\n"
     ]
    }
   ],
   "source": [
    "from sklearn.naive_bayes import MultinomialNB\n",
    "from sklearn.metrics import accuracy_score, precision_score, recall_score, f1_score\n",
    "\n",
    "# Train Naive Bayes Classifier\n",
    "nb_model = MultinomialNB()\n",
    "nb_model.fit(X_train_tfidf, train_labels)\n",
    "\n",
    "# Evaluate Naive Bayes\n",
    "nb_predictions = nb_model.predict(X_test_tfidf)\n",
    "nb_accuracy = accuracy_score(test_labels, nb_predictions)\n",
    "nb_precision = precision_score(test_labels, nb_predictions)\n",
    "nb_recall = recall_score(test_labels, nb_predictions)\n",
    "nb_f1 = f1_score(test_labels, nb_predictions)\n",
    "\n",
    "print(\"Naive Bayes Performance:\")\n",
    "print(f\"Accuracy: {nb_accuracy}, Precision: {nb_precision}, Recall: {nb_recall}, F1-Score: {nb_f1}\")"
   ]
  },
  {
   "cell_type": "markdown",
   "metadata": {},
   "source": [
    "#### Algorithm 2: Long Short-Term Memory (LSTM) Neural Network"
   ]
  },
  {
   "cell_type": "code",
   "execution_count": 4,
   "metadata": {},
   "outputs": [
    {
     "name": "stdout",
     "output_type": "stream",
     "text": [
      "Epoch 1/3\n",
      "\u001b[1m313/313\u001b[0m \u001b[32m━━━━━━━━━━━━━━━━━━━━\u001b[0m\u001b[37m\u001b[0m \u001b[1m16s\u001b[0m 48ms/step - accuracy: 0.5254 - loss: 0.6915 - val_accuracy: 0.5518 - val_loss: 0.6532\n",
      "Epoch 2/3\n",
      "\u001b[1m313/313\u001b[0m \u001b[32m━━━━━━━━━━━━━━━━━━━━\u001b[0m\u001b[37m\u001b[0m \u001b[1m15s\u001b[0m 47ms/step - accuracy: 0.6143 - loss: 0.6578 - val_accuracy: 0.5110 - val_loss: 0.7008\n",
      "Epoch 3/3\n",
      "\u001b[1m313/313\u001b[0m \u001b[32m━━━━━━━━━━━━━━━━━━━━\u001b[0m\u001b[37m\u001b[0m \u001b[1m14s\u001b[0m 44ms/step - accuracy: 0.6109 - loss: 0.6349 - val_accuracy: 0.5166 - val_loss: 0.8048\n",
      "\u001b[1m782/782\u001b[0m \u001b[32m━━━━━━━━━━━━━━━━━━━━\u001b[0m\u001b[37m\u001b[0m \u001b[1m7s\u001b[0m 9ms/step - accuracy: 0.1948 - loss: 1.1376\n",
      "LSTM Loss: 0.8000715374946594, LSTM Accuracy: 0.5178800225257874\n"
     ]
    }
   ],
   "source": [
    "from tensorflow.keras.models import Sequential\n",
    "from tensorflow.keras.layers import Embedding, LSTM, Dense\n",
    "import numpy as np\n",
    "from sklearn.model_selection import train_test_split\n",
    "\n",
    "# LSTM Model Architecture\n",
    "vocab_size = 10000\n",
    "embedding_dim = 100\n",
    "lstm_units = 64\n",
    "\n",
    "lstm_model = Sequential([\n",
    "    Embedding(input_dim=vocab_size, output_dim=embedding_dim),\n",
    "    LSTM(lstm_units, return_sequences=False),\n",
    "    Dense(1, activation=\"sigmoid\")\n",
    "])\n",
    "\n",
    "lstm_model.compile(optimizer=\"adam\", loss=\"binary_crossentropy\", metrics=[\"accuracy\"])\n",
    "\n",
    "# Ensure inputs are NumPy arrays\n",
    "train_labels = np.array(train_labels)\n",
    "X_train_padded = np.array(X_train_padded)\n",
    "test_labels = np.array(test_labels)  # Ensure test_labels is a NumPy array\n",
    "X_test_padded = np.array(X_test_padded)\n",
    "\n",
    "# Split data manually\n",
    "X_train, X_val, y_train, y_val = train_test_split(X_train_padded, train_labels, test_size=0.2, random_state=42)\n",
    "\n",
    "# Train LSTM Model\n",
    "lstm_model.fit(X_train, y_train, validation_data=(X_val, y_val), epochs=3, batch_size=64)\n",
    "\n",
    "# Evaluate LSTM Model\n",
    "lstm_loss, lstm_accuracy = lstm_model.evaluate(X_test_padded, test_labels)\n",
    "print(f\"LSTM Loss: {lstm_loss}, LSTM Accuracy: {lstm_accuracy}\")"
   ]
  },
  {
   "cell_type": "markdown",
   "metadata": {},
   "source": [
    "### Section 4: Evaluation and Comparison\n",
    "Performance Evaluation Metrics: Accuracy, Precision, Recall, F1-Score"
   ]
  },
  {
   "cell_type": "code",
   "execution_count": 5,
   "metadata": {},
   "outputs": [
    {
     "name": "stdout",
     "output_type": "stream",
     "text": [
      "\u001b[1m782/782\u001b[0m \u001b[32m━━━━━━━━━━━━━━━━━━━━\u001b[0m\u001b[37m\u001b[0m \u001b[1m7s\u001b[0m 9ms/step\n",
      "LSTM Results:\n",
      "Accuracy: 0.5178800225257874\n",
      "Precision: 0.5092206774206857\n",
      "Recall: 0.98744\n",
      "F1: 0.6719290127657258\n"
     ]
    }
   ],
   "source": [
    "# LSTM Metrics\n",
    "from sklearn.metrics import precision_score, recall_score, f1_score\n",
    "\n",
    "lstm_predictions = (lstm_model.predict(X_test_padded) > 0.5).astype(\"int32\").flatten()\n",
    "lstm_precision = precision_score(test_labels, lstm_predictions)\n",
    "lstm_recall = recall_score(test_labels, lstm_predictions)\n",
    "lstm_f1 = f1_score(test_labels, lstm_predictions)\n",
    "\n",
    "print(f\"LSTM Results:\\nAccuracy: {lstm_accuracy}\\nPrecision: {lstm_precision}\\nRecall: {lstm_recall}\\nF1: {lstm_f1}\")"
   ]
  },
  {
   "cell_type": "code",
   "execution_count": 6,
   "metadata": {},
   "outputs": [
    {
     "data": {
      "image/png": "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",
      "text/plain": [
       "<Figure size 640x480 with 1 Axes>"
      ]
     },
     "metadata": {},
     "output_type": "display_data"
    }
   ],
   "source": [
    "# Visualization of Results\n",
    "import matplotlib.pyplot as plt\n",
    "\n",
    "# Create a bar chart comparing algorithm performance\n",
    "metrics = [\"Accuracy\", \"Precision\", \"Recall\", \"F1-Score\"]\n",
    "nb_scores = [nb_accuracy, nb_precision, nb_recall, nb_f1]\n",
    "lstm_scores = [lstm_accuracy, lstm_precision, lstm_recall, lstm_f1]\n",
    "\n",
    "x = range(len(metrics))\n",
    "plt.bar(x, nb_scores, width=0.4, label=\"Naive Bayes\")\n",
    "plt.bar([i + 0.4 for i in x], lstm_scores, width=0.4, label=\"LSTM\")\n",
    "plt.xticks([i + 0.2 for i in x], metrics)\n",
    "plt.ylabel(\"Score\")\n",
    "plt.title(\"Algorithm Performance Comparison\")\n",
    "plt.legend()\n",
    "plt.show()"
   ]
  }
 ],
{
    "latex": {
        "header": [r"\bibliographystyle{plain}", r"\bibliography{references}"]
    }
}
 "metadata": {
  "kernelspec": {
   "display_name": "Python 3",
   "language": "python",
   "name": "python3"
  },
  "language_info": {
   "codemirror_mode": {
    "name": "ipython",
    "version": 3
   },
   "file_extension": ".py",
   "mimetype": "text/x-python",
   "name": "python",
   "nbconvert_exporter": "python",
   "pygments_lexer": "ipython3",
   "version": "3.12.6"
  }
 },
 "nbformat": 4,
 "nbformat_minor": 5
}
